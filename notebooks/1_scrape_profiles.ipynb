{
 "cells": [
  {
   "cell_type": "code",
   "execution_count": null,
   "id": "217f35d6-d140-40cb-a9a1-3fa7f577b1dd",
   "metadata": {},
   "outputs": [],
   "source": [
    "import re\n",
    "from apify_client import ApifyClient\n",
    "import json\n"
   ]
  },
  {
   "cell_type": "code",
   "execution_count": null,
   "id": "f0792137-e0be-4c35-8b5a-6196120d8ab8",
   "metadata": {},
   "outputs": [],
   "source": [
    "client_apify = ApifyClient(input(\" Enter your Apify API key: \"))\n",
    "\n",
    "def get_usernames_from_hashtags(hashtags, limit=500):\n",
    "    print(f\" Scraping usernames from {len(hashtags)} hashtags... (limit {limit} posts)\")\n",
    "    run_input = {\n",
    "        \"hashtags\": hashtags,\n",
    "        \"resultsLimit\": limit,\n",
    "        \"searchType\": \"hashtag\",\n",
    "        \"resultsType\": \"posts\",\n",
    "        \"proxyConfig\": {\"useApifyProxy\": True},\n",
    "        \"resultsPerPage\": 50,\n",
    "        \"maxRequestRetries\": 3,\n",
    "        \"maxConcurrency\": 10\n",
    "    }\n",
    "    run = client_apify.actor(\"apify/instagram-hashtag-scraper\").call(run_input=run_input)\n",
    "    posts = list(client_apify.dataset(run[\"defaultDatasetId\"]).iterate_items())\n",
    "    usernames = list(set(post[\"ownerUsername\"] for post in posts if \"ownerUsername\" in post))\n",
    "    print(f\" Found {len(usernames)} unique usernames.\")\n",
    "    return usernames\n"
   ]
  },
  {
   "cell_type": "code",
   "execution_count": null,
   "id": "ac85529f-f16a-4195-a57c-db430e2e19df",
   "metadata": {},
   "outputs": [],
   "source": [
    "# Hardcoded Canadian-focused hashtags\n",
    "hashtags = [\n",
    "    \"vancouverlashtech\", \"vancouverlashes\", \"vancitylashes\", \"yvrlashes\", \"burnabylashes\",\n",
    "    \"surreylashes\", \"richmondlashes\", \"coquitlamlashes\", \"northvancouverlashes\", \"westvancouverlashes\",\n",
    "    \"bcbeauty\", \"bcesthetics\", \"lashtechbc\", \"vancouverlashlift\", \"vancouverlashextensions\",\n",
    "    \"vancouverlashartist\", \"lashesbc\", \"lashesvancouver\", \"lashtrainingvancouver\", \"vancouverlashstudio\",\n",
    "    \"canadalashtech\", \"canadalashartist\", \"lashextensionscanada\", \"lashtechcanada\", \"lashartistcanada\",\n",
    "    \"canadianlashbabe\", \"canadianlashes\", \"canadianlashartist\", \"canadalashes\", \"canadalashtraining\",\n",
    "    \"canadalashsupplies\", \"lashliftcanada\", \"canadalashboss\", \"canadalashbiz\", \"canadalashbeauty\",\n",
    "    \"torontolashtech\", \"torontolashes\", \"lashestoronto\", \"calgarylashtech\", \"calgarylashes\",\n",
    "    \"ottawalashtech\", \"ottawalashes\", \"montreallashtech\", \"montreallashes\", \"edmontonlashtech\",\n",
    "    \"edmontonlashes\", \"saskatoonlashes\", \"halifaxlashes\", \"winnipeglashes\", \"niagaralashes\",\n",
    "    \"classiclashes\", \"volumelashes\", \"hybridlashes\", \"megalashes\", \"russianvolume\",\n",
    "    \"lashlift\", \"lashliftandtint\", \"lashmapping\", \"lashstylist\", \"lashdesign\",\n",
    "    \"cateyelashes\", \"dolleyelashes\", \"lashmentorship\", \"lashmentorcanada\", \"lashcertified\",\n",
    "    \"lashbizcanada\", \"lashacademycanada\", \"lashbranding\", \"lashinspo\", \"lashcontent\",\n",
    "    \"lashstudio\", \"lashreels\", \"lashlife\", \"lashlove\", \"lashgoals\"\n",
    "]\n",
    "\n",
    "print(\"Generated hashtags:\", hashtags[:10], \"...\")\n",
    "\n",
    "# Scrape usernames from posts using hashtags\n",
    "usernames = get_usernames_from_hashtags(hashtags, limit=500)\n",
    "\n",
    "import json\n",
    "with open(\"usernames_raw_canada.json\", \"w\") as f:\n",
    "    json.dump(usernames, f)\n",
    "\n",
    "print(f\" Found {len(usernames)} usernames. Saved to 'usernames_raw_canada.json'\")\n"
   ]
  },
  {
   "cell_type": "code",
   "execution_count": null,
   "id": "6c9883a9-7af2-4758-9a4c-972d3b5db087",
   "metadata": {},
   "outputs": [],
   "source": []
  }
 ],
 "metadata": {
  "kernelspec": {
   "display_name": "Python 3 (ipykernel)",
   "language": "python",
   "name": "python3"
  },
  "language_info": {
   "codemirror_mode": {
    "name": "ipython",
    "version": 3
   },
   "file_extension": ".py",
   "mimetype": "text/x-python",
   "name": "python",
   "nbconvert_exporter": "python",
   "pygments_lexer": "ipython3",
   "version": "3.12.7"
  }
 },
 "nbformat": 4,
 "nbformat_minor": 5
}
